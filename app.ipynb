{
 "cells": [
  {
   "cell_type": "code",
   "execution_count": 1,
   "id": "49de5fe1",
   "metadata": {},
   "outputs": [],
   "source": [
    "from flask import Flask\n",
    "app = Flask(__name__)"
   ]
  },
  {
   "cell_type": "code",
   "execution_count": 2,
   "id": "d7dac41e",
   "metadata": {},
   "outputs": [],
   "source": [
    "from flask import request, render_template"
   ]
  },
  {
   "cell_type": "code",
   "execution_count": 3,
   "id": "a8305d4f",
   "metadata": {},
   "outputs": [],
   "source": [
    "import joblib"
   ]
  },
  {
   "cell_type": "code",
   "execution_count": 4,
   "id": "dfbdb6d0",
   "metadata": {},
   "outputs": [],
   "source": [
    "@app.route(\"/\",methods=[\"GET\",\"POST\"])\n",
    "def index():\n",
    "    if request.method == \"POST\":\n",
    "        purchases = request.form.get(\"purchases\")\n",
    "        suppcard = request.form.get(\"suppcard\")\n",
    "        purchases = float(purchases)\n",
    "        suppcard = float(suppcard)\n",
    "\n",
    "        model1 = joblib.load(\"CCU_DT\")\n",
    "        pred1 = model1.predict([[purchases,suppcard]])\n",
    "        s1 = \"Upgrade = 1, No Upgrade = 0 ---> \" + str(pred1[0])\n",
    "        \n",
    "        model2 = joblib.load(\"CCU_Reg\")\n",
    "        pred2 = model2.predict([[purchases,suppcard]])\n",
    "        s2 = \"Upgrade = 1, No Upgrade = 0 ---> \" + str(pred2[0])\n",
    "        \n",
    "        model3 = joblib.load(\"CCU_NN\")\n",
    "        pred3 = model3.predict([[purchases,suppcard]])\n",
    "        s3 = \"Upgrade = 1, No Upgrade = 0 ---> \" + str(pred3[0])\n",
    "        \n",
    "        model4 = joblib.load(\"CCU_RF\")\n",
    "        pred4 = model4.predict([[purchases,suppcard]])\n",
    "        s4 = \"Upgrade = 1, No Upgrade = 0 ---> \" + str(pred4[0])\n",
    "        \n",
    "        model5 = joblib.load(\"CCU_GB\")\n",
    "        pred5 = model5.predict([[purchases,suppcard]])\n",
    "        s5 = \"Upgrade = 1, No Upgrade = 0 ---> \" + str(pred5[0])\n",
    "        \n",
    "        return(render_template(\"index.html\",result1=s1,result2=s2,result3=s3,result4=s4,result5=s5))\n",
    "    else:\n",
    "        return(render_template(\"index.html\",result1=\"No Input\",result2=\"No Input\",result3=\"No Input\",result4=\"No Input\",result5=\"No Input\"))"
   ]
  },
  {
   "cell_type": "code",
   "execution_count": null,
   "id": "d78dd56b",
   "metadata": {},
   "outputs": [
    {
     "name": "stdout",
     "output_type": "stream",
     "text": [
      " * Serving Flask app \"__main__\" (lazy loading)\n",
      " * Environment: production\n",
      "\u001b[31m   WARNING: This is a development server. Do not use it in a production deployment.\u001b[0m\n",
      "\u001b[2m   Use a production WSGI server instead.\u001b[0m\n",
      " * Debug mode: off\n"
     ]
    },
    {
     "name": "stderr",
     "output_type": "stream",
     "text": [
      " * Running on http://127.0.0.1:5000/ (Press CTRL+C to quit)\n",
      "127.0.0.1 - - [26/Feb/2022 15:04:44] \"GET / HTTP/1.1\" 200 -\n",
      "127.0.0.1 - - [26/Feb/2022 15:07:06] \"GET / HTTP/1.1\" 200 -\n"
     ]
    }
   ],
   "source": [
    "if __name__==\"__main__\":\n",
    "    app.run()"
   ]
  },
  {
   "cell_type": "code",
   "execution_count": null,
   "id": "25de5e4f",
   "metadata": {},
   "outputs": [],
   "source": []
  }
 ],
 "metadata": {
  "kernelspec": {
   "display_name": "Python 3 (ipykernel)",
   "language": "python",
   "name": "python3"
  },
  "language_info": {
   "codemirror_mode": {
    "name": "ipython",
    "version": 3
   },
   "file_extension": ".py",
   "mimetype": "text/x-python",
   "name": "python",
   "nbconvert_exporter": "python",
   "pygments_lexer": "ipython3",
   "version": "3.9.7"
  }
 },
 "nbformat": 4,
 "nbformat_minor": 5
}
